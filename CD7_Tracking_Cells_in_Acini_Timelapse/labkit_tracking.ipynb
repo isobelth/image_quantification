{
 "cells": [
  {
   "cell_type": "code",
   "execution_count": null,
   "metadata": {},
   "outputs": [],
   "source": [
    "import numpy as np\n",
    "import math\n",
    "import os\n",
    "import matplotlib\n",
    "matplotlib.rcParams[\"image.interpolation\"] = 'none'\n",
    "import matplotlib.pyplot as plt\n",
    "import pathlib\n",
    "import sys\n",
    "import natsort\n",
    "from skimage.feature import peak_local_max\n",
    "from skimage import util, measure\n",
    "from skimage.filters import threshold_otsu, gaussian\n",
    "from skimage.segmentation import watershed\n",
    "from skimage.measure import label, regionprops, regionprops_table\n",
    "from skimage.morphology import closing,  disk, dilation, erosion, ball\n",
    "from scipy.ndimage import distance_transform_edt\n",
    "from scipy import ndimage as ndi\n",
    "from skimage.transform import rescale\n",
    "\n",
    "import napari\n",
    "from tqdm import tqdm\n",
    "from tifffile import imread\n",
    "import tifffile\n",
    "\n",
    "import warnings\n",
    "warnings.filterwarnings(\"ignore\")\n",
    "\n"
   ]
  },
  {
   "cell_type": "code",
   "execution_count": 4,
   "metadata": {},
   "outputs": [],
   "source": [
    "#IGNORE THIS - SOMETIMES THE DECONVOLUTION RETURNS IMAGES WITH PIXEL VALUES ALL OVER THE PLACE, SO THIS CONVERTS EVERY IMAGE TO HAVE PIXEL VALUES BETWEEN 0 AND 255\n",
    "def convert(img, target_type_min, target_type_max, target_type):\n",
    "    imin = img.min()\n",
    "    imax = img.max()\n",
    "\n",
    "    a = (target_type_max - target_type_min) / (imax - imin)\n",
    "    b = target_type_max - a * imax\n",
    "    new_img = (a * img + b).astype(target_type)\n",
    "    return new_img"
   ]
  },
  {
   "cell_type": "code",
   "execution_count": 5,
   "metadata": {},
   "outputs": [],
   "source": [
    "#IGNORE THIS - EXTRACTS TIF SIZE FROM IMAGE METADATA\n",
    "def pixel_size(tif_path):\n",
    "    with tifffile.TiffFile(tif_path) as tif:\n",
    "        tif_tags = {}\n",
    "        for tag in tif.pages[0].tags.values():\n",
    "            name, value = tag.name, tag.value\n",
    "            tif_tags[name] = value\n",
    "\n",
    "        x_pixel_size_um = 1/((tif_tags[\"XResolution\"])[0]/(tif_tags[\"XResolution\"][1]))\n",
    "        y_pixel_size_um = 1/((tif_tags[\"YResolution\"])[0]/(tif_tags[\"YResolution\"][1]))\n",
    "        try:\n",
    "            z_pixel_size_um = float(str(tif_tags[\"IJMetadata\"]).split(\"nscales=\")[1].split(\",\")[2].split(\"\\\\nunit\")[0])\n",
    "        except:\n",
    "            z_pixel_size_um = (float(str(tif_tags[\"ImageDescription\"]).split(\"spacing=\")[1].split(\"loop\")[0]))\n",
    "       \n",
    "    original_spacing = [x_pixel_size_um,y_pixel_size_um,z_pixel_size_um]\n",
    "    return original_spacing"
   ]
  },
  {
   "cell_type": "code",
   "execution_count": null,
   "metadata": {},
   "outputs": [],
   "source": [
    "def clean_labels(path, z_size = 6.0800000, x_y_size = 0.1700744):\n",
    "    image = convert(imread(path), 0,255, np.uint8)\n",
    "    scale_change = z_size / x_y_size #how much bigger the z step is than x,y\n",
    "    scale_value = 0.5\n",
    "    new_pixel_size = (1/scale_value) * x_y_size\n",
    "\n",
    "    #########CREATE LABELS\n",
    "    rescaled_image = rescale(scale = (1,scale_value*scale_change, scale_value, scale_value), image=(image ), anti_aliasing = False)\n",
    "    rescaled_image = gaussian(rescaled_image, sigma = 2)\n",
    "    thresh = threshold_otsu(rescaled_image)\n",
    "    rescaled_image = rescaled_image > thresh\n",
    "\n",
    "    all_output_labels = []\n",
    "    for t in range(rescaled_image.shape[0]):\n",
    "        single_time = rescaled_image[t,:,:]\n",
    "        distances = ndi.distance_transform_edt(erosion(single_time, ball(3)))\n",
    "        coordinates = peak_local_max(distances, min_distance = int(20)) ####seed points at least 4um apart\n",
    "        marker_locations = coordinates.data\n",
    "        markers = np.zeros(single_time.shape, dtype=np.uint32)\n",
    "        marker_indices = tuple(np.round(marker_locations).astype(int).T)\n",
    "        markers[marker_indices] = np.arange(len(marker_locations)) + 1\n",
    "        markers_big = dilation(markers, ball(2))\n",
    "        segmented = watershed(-distances, markers_big, mask=single_time)\n",
    "        table = regionprops_table(segmented, properties=('label', 'area'),)\n",
    "        volume_threshold = (4/3)*np.pi * (4/new_pixel_size)**2     # radius 2um nucleus\n",
    "        condition = (table['area'] >= volume_threshold)\n",
    "        input_labels = table['label']\n",
    "        output_labels = input_labels * condition\n",
    "        output_labels = util.map_array(segmented, input_labels, output_labels)\n",
    "        all_output_labels.append(output_labels)\n",
    "    timelapse_labels = np.stack(all_output_labels, axis=0)\n",
    "    return timelapse_labels"
   ]
  },
  {
   "cell_type": "code",
   "execution_count": 7,
   "metadata": {},
   "outputs": [],
   "source": [
    "def clean_images(path, z_size = 6.0800000, x_y_size = 0.1700744):\n",
    "    all_times_dapi = imread(path)[:,:,0,:,:]\n",
    "    image = convert(all_times_dapi, 0,255, np.uint8)\n",
    "    print(image.shape)\n",
    "    scale_change = scale_change = z_size / x_y_size #how much bigger the z step is than x,y\n",
    "    scale_value = 0.5\n",
    "    new_pixel_size = (1/scale_value) * x_y_size\n",
    "\n",
    "    #########CREATE LABELS\n",
    "    rescaled_image = rescale(scale = (1, scale_value*scale_change, scale_value, scale_value), image=(image ), anti_aliasing = False)\n",
    "    return rescaled_image"
   ]
  },
  {
   "cell_type": "code",
   "execution_count": 27,
   "metadata": {},
   "outputs": [
    {
     "name": "stdout",
     "output_type": "stream",
     "text": [
      "44\n"
     ]
    }
   ],
   "source": [
    "binary_root = \"C:\\\\Users\\\\itayl\\\\Downloads\\\\test_delete\\\\out\\\\combined\" # folder containing combined top+bottom binary segmentations\n",
    "binary_paths = list(pathlib.Path(binary_root).rglob(\"*.{}\".format(\"tif\")))\n",
    "combined_binary_root = \"C:\\\\Users\\\\itayl\\\\Downloads\\\\test_delete\\\\out\\\\stacked\"\n",
    "combined_label_root = \"C:\\\\Users\\\\itayl\\\\Downloads\\\\test_delete\\\\out\\\\unlinked_labels\"\n",
    "print(len(binary_paths))"
   ]
  },
  {
   "cell_type": "code",
   "execution_count": 14,
   "metadata": {},
   "outputs": [
    {
     "data": {
      "text/plain": [
       "2"
      ]
     },
     "execution_count": 14,
     "metadata": {},
     "output_type": "execute_result"
    }
   ],
   "source": [
    "unique_filenames = []\n",
    "for path in binary_paths:\n",
    "    filename = \"_\".join(os.path.basename(path).lower().split(\"_\")[2:])\n",
    "    if filename not in unique_filenames:\n",
    "        unique_filenames.append(filename)\n",
    "len(unique_filenames)"
   ]
  },
  {
   "cell_type": "code",
   "execution_count": null,
   "metadata": {},
   "outputs": [],
   "source": [
    "all_images = []\n",
    "for filename in unique_filenames:\n",
    "    z_slices = []\n",
    "    for path in binary_paths:\n",
    "        if filename in str(path).lower():\n",
    "            z_slices.append(path)\n",
    "    z_slices.sort()\n",
    "    all_images.append(z_slices)\n",
    "files = all_images\n",
    "sorted_files = natsort.natsorted(files)\n",
    "    "
   ]
  },
  {
   "cell_type": "code",
   "execution_count": 20,
   "metadata": {},
   "outputs": [],
   "source": [
    "sorted_images = []\n",
    "for image in all_images:\n",
    "    sorted_image = natsort.natsorted(image)\n",
    "    sorted_images.append(sorted_image)"
   ]
  },
  {
   "cell_type": "code",
   "execution_count": 26,
   "metadata": {},
   "outputs": [
    {
     "name": "stdout",
     "output_type": "stream",
     "text": [
      "(22, 11, 442, 456)\n",
      "(22, 12, 409, 409)\n"
     ]
    }
   ],
   "source": [
    "for image in sorted_images:\n",
    "    frames = []\n",
    "    for file in image:\n",
    "        filename = \"_\".join(os.path.basename(file).lower().split(\"_\")[2:]).split(\".tif\")[0]\n",
    "\n",
    "        img = imread(file)\n",
    "\n",
    "\n",
    "        frames.append(img)\n",
    "    timelapse_labels = np.stack(frames, axis=0)\n",
    "    print(timelapse_labels.shape)\n",
    "    output_path = combined_binary_root+\"\\\\{}_combined_timelapse.tif\".format(filename)\n",
    "    tifffile.imwrite(output_path, timelapse_labels, imagej=True, metadata={'axes': 'TZYX'})\n"
   ]
  },
  {
   "cell_type": "code",
   "execution_count": 31,
   "metadata": {},
   "outputs": [
    {
     "name": "stdout",
     "output_type": "stream",
     "text": [
      "C:\\Users\\itayl\\Downloads\\test_delete\\out\\unlinked_labels\\24h-01-scene-04-p3_cropped_stiff_combined_timelapse_FILTEREDLABELS.tif\n",
      "C:\\Users\\itayl\\Downloads\\test_delete\\out\\unlinked_labels\\24h-01-scene-07-p9_cropped_stiff_combined_timelapse_FILTEREDLABELS.tif\n"
     ]
    }
   ],
   "source": [
    "combined_binary_images = list(pathlib.Path(combined_binary_root).rglob(\"*.{}\".format(\"tif\")))\n",
    "for image in combined_binary_images:\n",
    "    filename = \"_\".join(os.path.basename(image).lower().split(\"_\")[2:]).replace(\".tif\", \"\")\n",
    "    output_path = combined_label_root+\"\\\\{}_FILTEREDLABELS.tif\".format(filename)\n",
    "    print(output_path)\n",
    "    unlinked_labels = clean_labels(image)\n",
    "\n",
    "\n",
    "    tifffile.imwrite(output_path, unlinked_labels.astype(np.float32), imagej=True, metadata={'axes': 'TZYX'})"
   ]
  },
  {
   "cell_type": "code",
   "execution_count": null,
   "metadata": {},
   "outputs": [
    {
     "data": {
      "text/plain": [
       "<Labels layer 'labels' at 0x28fde1d3c10>"
      ]
     },
     "execution_count": 9,
     "metadata": {},
     "output_type": "execute_result"
    }
   ],
   "source": [
    "viewer = napari.Viewer()\n",
    "viewer.add_labels(unlinked_labels)"
   ]
  }
 ],
 "metadata": {
  "kernelspec": {
   "display_name": "trackpy",
   "language": "python",
   "name": "python3"
  },
  "language_info": {
   "codemirror_mode": {
    "name": "ipython",
    "version": 3
   },
   "file_extension": ".py",
   "mimetype": "text/x-python",
   "name": "python",
   "nbconvert_exporter": "python",
   "pygments_lexer": "ipython3",
   "version": "3.11.11"
  }
 },
 "nbformat": 4,
 "nbformat_minor": 2
}
